{
 "cells": [
  {
   "cell_type": "code",
   "execution_count": 1,
   "id": "44c95486",
   "metadata": {},
   "outputs": [
    {
     "name": "stderr",
     "output_type": "stream",
     "text": [
      "C:\\Users\\lockd\\anaconda3\\envs\\pyTest\\lib\\site-packages\\numpy\\_distributor_init.py:30: UserWarning: loaded more than 1 DLL from .libs:\n",
      "C:\\Users\\lockd\\anaconda3\\envs\\pyTest\\lib\\site-packages\\numpy\\.libs\\libopenblas.FB5AE2TYXYH2IJRDKGDGQ3XBKLKTF43H.gfortran-win_amd64.dll\n",
      "C:\\Users\\lockd\\anaconda3\\envs\\pyTest\\lib\\site-packages\\numpy\\.libs\\libopenblas64__v0.3.23-246-g3d31191b-gcc_10_3_0.dll\n",
      "  warnings.warn(\"loaded more than 1 DLL from .libs:\"\n"
     ]
    }
   ],
   "source": [
    "import matplotlib.pyplot as plt\n",
    "import pandas as pd\n",
    "import numpy as np\n",
    "import lightgbm as lgb\n",
    "import bisect\n",
    "from tqdm import tqdm\n",
    "from sklearn.metrics import mean_absolute_error\n",
    "from sklearn.preprocessing import LabelEncoder\n",
    "from sklearn.model_selection import KFold\n",
    "\n",
    "train = pd.read_csv('train.csv').drop(columns=['SAMPLE_ID'])\n",
    "test = pd.read_csv('test.csv').drop(columns=['SAMPLE_ID'])"
   ]
  },
  {
   "cell_type": "code",
   "execution_count": 2,
   "id": "4be01e11",
   "metadata": {},
   "outputs": [
    {
     "name": "stderr",
     "output_type": "stream",
     "text": [
      "Encoding features: 100%|█████████████████████████████████████████████████████████████████| 6/6 [00:03<00:00,  1.96it/s]\n"
     ]
    }
   ],
   "source": [
    "# datetime 컬럼 처리\n",
    "train['ATA'] = pd.to_datetime(train['ATA'])\n",
    "test['ATA'] = pd.to_datetime(test['ATA'])\n",
    "\n",
    "# datetime을 여러 파생 변수로 변환\n",
    "for df in [train, test]:\n",
    "    df['year'] = df['ATA'].dt.year\n",
    "    df['month'] = df['ATA'].dt.month\n",
    "    df['day'] = df['ATA'].dt.day\n",
    "    df['hour'] = df['ATA'].dt.hour\n",
    "    df['minute'] = df['ATA'].dt.minute\n",
    "    df['weekday'] = df['ATA'].dt.weekday\n",
    "\n",
    "# datetime 컬럼 제거\n",
    "train.drop(columns='ATA', inplace=True)\n",
    "test.drop(columns='ATA', inplace=True)\n",
    "\n",
    "# Categorical 컬럼 인코딩\n",
    "categorical_features = ['ARI_CO', 'ARI_PO', 'SHIP_TYPE_CATEGORY', 'ID', 'SHIPMANAGER', 'FLAG']\n",
    "encoders = {}\n",
    "\n",
    "for feature in tqdm(categorical_features, desc=\"Encoding features\"):\n",
    "    le = LabelEncoder()\n",
    "    train[feature] = le.fit_transform(train[feature].astype(str))\n",
    "    le_classes_set = set(le.classes_)\n",
    "    test[feature] = test[feature].map(lambda s: '-1' if s not in le_classes_set else s)\n",
    "    le_classes = le.classes_.tolist()\n",
    "    bisect.insort_left(le_classes, '-1')\n",
    "    le.classes_ = np.array(le_classes)\n",
    "    test[feature] = le.transform(test[feature].astype(str))\n",
    "    encoders[feature] = le\n",
    "\n",
    "# 결측치 처리\n",
    "train.fillna(train.mean(), inplace=True)\n",
    "test.fillna(train.mean(), inplace=True)"
   ]
  },
  {
   "cell_type": "code",
   "execution_count": 3,
   "id": "8a0e366c",
   "metadata": {},
   "outputs": [],
   "source": [
    "def train_and_evaluate(model, model_name, X_train, y_train):\n",
    "    print(f'Model Tune for {model_name}.')\n",
    "    model.fit(X_train, y_train)\n",
    "    \n",
    "    feature_importances = model.feature_importances_\n",
    "    sorted_idx = feature_importances.argsort()\n",
    "\n",
    "    plt.figure(figsize=(10, len(X_train.columns)))\n",
    "    plt.title(f\"Feature Importances ({model_name})\")\n",
    "    plt.barh(range(X_train.shape[1]), feature_importances[sorted_idx], align='center')\n",
    "    plt.yticks(range(X_train.shape[1]), X_train.columns[sorted_idx])\n",
    "    plt.xlabel('Importance')\n",
    "    plt.show()\n",
    "    \n",
    "    return model, feature_importances"
   ]
  },
  {
   "cell_type": "code",
   "execution_count": 4,
   "id": "4241ad68",
   "metadata": {},
   "outputs": [],
   "source": [
    "#정답레이블 분리\n",
    "X_train = train.drop(columns='CI_HOUR')\n",
    "y_train = train['CI_HOUR']"
   ]
  },
  {
   "cell_type": "code",
   "execution_count": 45,
   "id": "f0c2071a",
   "metadata": {},
   "outputs": [],
   "source": [
    "##### K-Fold Model Fitting & Validation\n",
    "\n",
    "xgb_optuna1 = {\n",
    "    'n_estimators': 500,\n",
    "    'learning_rate': 0.14825592807938784,\n",
    "    'booster': 'gbtree',\n",
    "    'lambda': 8.286104243394034,\n",
    "    'alpha': 3.218706261523848,\n",
    "    'subsample': 0.9641392997798903,\n",
    "    'colsample_bytree': 0.6489144243365093,\n",
    "    'max_depth': 4, \n",
    "    'min_child_weight': 3,\n",
    "    'eta': 1.230361841253566,\n",
    "    'gamma': 0.007588382469327802, \n",
    "    'grow_policy': 'depthwise',\n",
    "    'random_state': 32,\n",
    "}\n",
    "model = XGBRegressor(**xgb_optuna1)"
   ]
  },
  {
   "cell_type": "code",
   "execution_count": 51,
   "id": "56ed4f14",
   "metadata": {},
   "outputs": [],
   "source": [
    "xgb_optuna2 = {\n",
    "    'n_estimators': 500,\n",
    "    'learning_rate': 0.2,\n",
    "    'max_depth': 5, \n",
    "    'random_state': 32,\n",
    "}\n",
    "model = XGBRegressor(**xgb_optuna2)"
   ]
  },
  {
   "cell_type": "code",
   "execution_count": 13,
   "id": "829d493f",
   "metadata": {},
   "outputs": [],
   "source": [
    "model = GradientBoostingRegressor(**gb_params)"
   ]
  },
  {
   "cell_type": "code",
   "execution_count": 14,
   "id": "236775d2",
   "metadata": {},
   "outputs": [
    {
     "name": "stderr",
     "output_type": "stream",
     "text": [
      "Processing folds: 100%|██████████████████████████████████████████████████████████████████| 5/5 [01:57<00:00, 23.42s/it]"
     ]
    },
    {
     "name": "stdout",
     "output_type": "stream",
     "text": [
      "Validation : MAE scores for each fold: [60.02316719464266, 61.370632467446704, 60.9247036261763, 60.58020236256191, 60.20971615355808]\n",
      "Validation : MAE: 60.62168436087713\n"
     ]
    },
    {
     "name": "stderr",
     "output_type": "stream",
     "text": [
      "\n"
     ]
    }
   ],
   "source": [
    "# 5-Fold 설정\n",
    "kf = KFold(n_splits=5, shuffle=True, random_state=42)\n",
    "\n",
    "# 각 fold의 모델로부터의 예측을 저장할 리스트와 MAE 점수 리스트\n",
    "ensemble_predictions = []\n",
    "scores = []\n",
    "\n",
    "for train_idx, val_idx in tqdm(kf.split(X_train_reduced), total=5, desc=\"Processing folds\"):\n",
    "    X_t, X_val = X_train_reduced.iloc[train_idx], X_train_reduced.iloc[val_idx]\n",
    "    y_t, y_val = y_train[train_idx], y_train[val_idx]\n",
    "    \n",
    "    # 두 모델 모두 학습\n",
    "    model.fit(X_t, y_t)\n",
    "    \n",
    "    # 각 모델로부터 Validation set에 대한 예측을 평균내어 앙상블 예측 생성\n",
    "    val_pred = model.predict(X_val)\n",
    "    \n",
    "    # Validation set에 대한 대회 평가 산식 계산 후 저장\n",
    "    scores.append(mean_absolute_error(y_val, val_pred))\n",
    "    \n",
    "    # test 데이터셋에 대한 예측 수행 후 저장\n",
    "    xgb_pred = model.predict(X_test_reduced)\n",
    "    xgb_pred = np.where(xgb_pred < 0, 0, xgb_pred)\n",
    "    \n",
    "    ensemble_predictions.append(xgb_pred)\n",
    "\n",
    "# K-fold 모든 예측의 평균을 계산하여 fold별 모델들의 앙상블 예측 생성\n",
    "final_predictions = np.mean(ensemble_predictions, axis=0)\n",
    "\n",
    "# 각 fold에서의 Validation Metric Score와 전체 평균 Validation Metric Score출력\n",
    "print(\"Validation : MAE scores for each fold:\", scores)\n",
    "print(\"Validation : MAE:\", np.mean(scores))"
   ]
  },
  {
   "cell_type": "code",
   "execution_count": null,
   "id": "7e23baa9",
   "metadata": {},
   "outputs": [],
   "source": [
    "from sklearn.linear_model import ElasticNet, Lasso,  BayesianRidge, LassoLarsIC\n",
    "from sklearn.kernel_ridge import KernelRidge\n",
    "from sklearn.preprocessing import RobustScaler\n",
    "from sklearn.pipeline import make_pipeline\n",
    "#lasso = make_pipeline(RobustScaler(), Lasso(alpha =0.0005, random_state=1))\n",
    "kr_model, kr_feature_importances = train_and_evaluate(KernelRidge(), 'KR', X_train, y_train)"
   ]
  },
  {
   "cell_type": "code",
   "execution_count": 32,
   "id": "673ed496",
   "metadata": {},
   "outputs": [],
   "source": [
    "threshold = 0.02 # Your Threshold\n",
    "low_importance_features = X_train.columns[dt_feature_importances < threshold]\n",
    "\n",
    "X_train_reduced = X_train.drop(columns=low_importance_features)\n",
    "X_test_reduced = test.drop(columns=low_importance_features)"
   ]
  },
  {
   "cell_type": "code",
   "execution_count": 33,
   "id": "dbea820d",
   "metadata": {},
   "outputs": [],
   "source": [
    "model = DecisionTreeRegressor()"
   ]
  },
  {
   "cell_type": "code",
   "execution_count": 34,
   "id": "41460d66",
   "metadata": {},
   "outputs": [
    {
     "name": "stderr",
     "output_type": "stream",
     "text": [
      "Processing folds: 100%|██████████████████████████████████████████████████████████████████| 5/5 [00:29<00:00,  5.99s/it]"
     ]
    },
    {
     "name": "stdout",
     "output_type": "stream",
     "text": [
      "Validation : MAE scores for each fold: [69.25279730654027, 72.15310268561677, 71.6520569299136, 71.833117402375, 70.43376753229784]\n",
      "Validation : MAE: 71.0649683713487\n"
     ]
    },
    {
     "name": "stderr",
     "output_type": "stream",
     "text": [
      "\n"
     ]
    }
   ],
   "source": [
    "# 5-Fold 설정\n",
    "kf = KFold(n_splits=5, shuffle=True, random_state=42)\n",
    "\n",
    "# 각 fold의 모델로부터의 예측을 저장할 리스트와 MAE 점수 리스트\n",
    "ensemble_predictions = []\n",
    "scores = []\n",
    "\n",
    "for train_idx, val_idx in tqdm(kf.split(X_train_reduced), total=5, desc=\"Processing folds\"):\n",
    "    X_t, X_val = X_train_reduced.iloc[train_idx], X_train_reduced.iloc[val_idx]\n",
    "    y_t, y_val = y_train[train_idx], y_train[val_idx]\n",
    "    \n",
    "    # 두 모델 모두 학습\n",
    "    model.fit(X_t, y_t)\n",
    "    \n",
    "    # 각 모델로부터 Validation set에 대한 예측을 평균내어 앙상블 예측 생성\n",
    "    val_pred = model.predict(X_val)\n",
    "    \n",
    "    # Validation set에 대한 대회 평가 산식 계산 후 저장\n",
    "    scores.append(mean_absolute_error(y_val, val_pred))\n",
    "    \n",
    "    # test 데이터셋에 대한 예측 수행 후 저장\n",
    "    test_pred = model.predict(X_test_reduced)\n",
    "    test_pred = np.where(xgb_pred < 0, 0, test_pred)\n",
    "    \n",
    "    ensemble_predictions.append(test_pred)\n",
    "\n",
    "# K-fold 모든 예측의 평균을 계산하여 fold별 모델들의 앙상블 예측 생성\n",
    "final_predictions = np.mean(ensemble_predictions, axis=0)\n",
    "\n",
    "# 각 fold에서의 Validation Metric Score와 전체 평균 Validation Metric Score출력\n",
    "print(\"Validation : MAE scores for each fold:\", scores)\n",
    "print(\"Validation : MAE:\", np.mean(scores))"
   ]
  },
  {
   "cell_type": "code",
   "execution_count": null,
   "id": "20640fbe",
   "metadata": {},
   "outputs": [],
   "source": []
  }
 ],
 "metadata": {
  "kernelspec": {
   "display_name": "Python 3 (ipykernel)",
   "language": "python",
   "name": "python3"
  },
  "language_info": {
   "codemirror_mode": {
    "name": "ipython",
    "version": 3
   },
   "file_extension": ".py",
   "mimetype": "text/x-python",
   "name": "python",
   "nbconvert_exporter": "python",
   "pygments_lexer": "ipython3",
   "version": "3.10.9"
  }
 },
 "nbformat": 4,
 "nbformat_minor": 5
}
