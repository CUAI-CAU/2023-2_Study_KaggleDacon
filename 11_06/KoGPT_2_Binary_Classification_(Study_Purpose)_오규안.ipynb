{
  "cells": [
    {
      "cell_type": "markdown",
      "metadata": {
        "id": "nvIZ8NRbbdUD"
      },
      "source": [
        "# KoGPT-2 Binary Classification\n",
        "\n",
        "### 코랩 세팅"
      ]
    },
    {
      "cell_type": "code",
      "execution_count": 14,
      "metadata": {
        "colab": {
          "base_uri": "https://localhost:8080/"
        },
        "id": "4R7TeggwbdUH",
        "outputId": "1a766714-3e2f-4fd1-d784-0d7ae95a3a35"
      },
      "outputs": [
        {
          "output_type": "stream",
          "name": "stdout",
          "text": [
            "[Errno 2] No such file or directory: '/content/drive/MyDrive/dacon/text_label'\n",
            "/content\n"
          ]
        }
      ],
      "source": [
        "%cd /content/drive/MyDrive/dacon/text_label"
      ]
    },
    {
      "cell_type": "code",
      "execution_count": 15,
      "metadata": {
        "id": "D55G5_IQlqNY"
      },
      "outputs": [],
      "source": [
        "!pip install -U transformers sentencepiece -q"
      ]
    },
    {
      "cell_type": "markdown",
      "metadata": {
        "id": "Pl5dDV-CbdUK"
      },
      "source": [
        "### NLP 작업 환경 설정"
      ]
    },
    {
      "cell_type": "code",
      "execution_count": 16,
      "metadata": {
        "id": "2C2YpevblrWv"
      },
      "outputs": [],
      "source": [
        "import numpy as np\n",
        "import pandas as pd\n",
        "import matplotlib.pyplot as plt\n",
        "import seaborn as sns\n",
        "\n",
        "from tqdm import tqdm\n",
        "\n",
        "import torch\n",
        "import torch.nn as nn\n",
        "from torch.utils.data import DataLoader, TensorDataset, RandomSampler, SequentialSampler\n",
        "\n",
        "from keras.utils import pad_sequences\n",
        "\n",
        "from transformers import AdamW\n",
        "from transformers import AutoTokenizer, AutoModel"
      ]
    },
    {
      "cell_type": "markdown",
      "metadata": {
        "id": "y2PpfPl7bdUL"
      },
      "source": [
        "### NumPy와 PyTorch 작업의 재현성을 보장하기 위해 무작위 시드를 설정\n",
        "##### 코드를 실행한 결과가 항상 동일할 수 있도록 시드를 고정해 줍니다."
      ]
    },
    {
      "cell_type": "code",
      "execution_count": 17,
      "metadata": {
        "id": "aRF9_50ylsUf"
      },
      "outputs": [],
      "source": [
        "#이 함수는 데이터 처리와 머신러닝에서 재현성을 위해 무작위 시드를 설정하는 데 사용됩니다.\n",
        "def set_seed(seed=42):\n",
        "    np.random.seed(seed)\n",
        "    torch.manual_seed(seed)\n",
        "    #시스템에 GPU(CUDA)가 있는지 확인합니다.\n",
        "    if torch.cuda.is_available():\n",
        "        # GPU가 사용 가능한 경우, 이 줄은 GPU의 무작위 숫자 생성기의 시드를 설정하여 GPU 가속 작업에서 재현성을 보장합니다.\n",
        "        torch.cuda.manual_seed_all(seed)\n",
        "\n",
        "set_seed()"
      ]
    },
    {
      "cell_type": "markdown",
      "metadata": {
        "id": "8Ed6R0bsbdUN"
      },
      "source": [
        "### 시스템 가용성에 따라 GPU 또는 CPU를 사용할 것인지를 결정"
      ]
    },
    {
      "cell_type": "code",
      "execution_count": 18,
      "metadata": {
        "id": "VrFajFq3ltPn",
        "scrolled": true
      },
      "outputs": [],
      "source": [
        "#시스템의 가용성에 따라 'cuda:0' (GPU 사용) 또는 'cpu' (CPU 사용)로 장치를 설정합니다.\n",
        "device = torch.device('cuda:0' if torch.cuda.is_available() else 'cpu')"
      ]
    },
    {
      "cell_type": "markdown",
      "metadata": {
        "id": "kEq6ZIlCbdUO"
      },
      "source": [
        "### 데이터 불러오기"
      ]
    },
    {
      "cell_type": "code",
      "execution_count": 19,
      "metadata": {
        "id": "fLjAlQ5dluTP",
        "colab": {
          "base_uri": "https://localhost:8080/"
        },
        "outputId": "b6de3d64-c7e3-45e7-a417-6241bbfaf557"
      },
      "outputs": [
        {
          "output_type": "stream",
          "name": "stdout",
          "text": [
            "Mounted at /content/drive\n"
          ]
        }
      ],
      "source": [
        "from google.colab import drive\n",
        "drive.mount('/content/drive')\n",
        "\n",
        "df_train = pd.read_csv('/content/drive/MyDrive/월간데이콘쇼츠/train.csv')\n",
        "df_test = pd.read_csv('/content/drive/MyDrive/월간데이콘쇼츠/test.csv')"
      ]
    },
    {
      "cell_type": "markdown",
      "metadata": {
        "id": "gmgt8m_abdUP"
      },
      "source": [
        "### 데이터 전처리"
      ]
    },
    {
      "cell_type": "code",
      "execution_count": 20,
      "metadata": {
        "id": "YSlbykGNlvUf"
      },
      "outputs": [],
      "source": [
        "#'human_reviews'와 ai_reviews 빈 리스트를 정의\n",
        "human_reviews = []\n",
        "ai_reviews = []"
      ]
    },
    {
      "cell_type": "markdown",
      "metadata": {
        "id": "gUxoeCPybdUQ"
      },
      "source": [
        "##### 클래스 균형을 맞추기 위해 가짜 데이터 중 하나만 Random Choice"
      ]
    },
    {
      "cell_type": "code",
      "execution_count": 21,
      "metadata": {
        "id": "NSmMVmvMlwpv"
      },
      "outputs": [],
      "source": [
        "for i, label in enumerate(df_train['label']):\n",
        "  #'labels'라는 리스트를 생성, 1,2,3,4 지정\n",
        "  labels = [1,2,3,4]\n",
        "  #'labels' 리스트에서 현재 레코드의 레이블 값을 제거합니다. 이렇게 하면 'labels' 리스트에서 현재 레이블을 제외한 다른 레이블이 남게 됩니다.\n",
        "  labels.remove(label)\n",
        "  #레이블을 하나만 선택한다.\n",
        "  ai_label = np.random.choice(labels)\n",
        "\n",
        "  human_reviews.append(df_train.iloc[i, label])\n",
        "  ai_reviews.append(df_train.iloc[i, ai_label])"
      ]
    },
    {
      "cell_type": "code",
      "execution_count": 22,
      "metadata": {
        "id": "rDMx8vNwlwlH"
      },
      "outputs": [],
      "source": [
        "# 이진 Label 0: 가짜 1: 인간\n",
        "human_labels = [1] * len(human_reviews)\n",
        "ai_labels = [0] * len(ai_reviews)"
      ]
    },
    {
      "cell_type": "code",
      "execution_count": 23,
      "metadata": {
        "id": "usdi8b3LlyEn"
      },
      "outputs": [],
      "source": [
        "reviews = human_reviews + ai_reviews\n",
        "labels = human_labels + ai_labels"
      ]
    },
    {
      "cell_type": "markdown",
      "metadata": {
        "id": "PidFPlZlbdUR"
      },
      "source": [
        "### Tokenizer & Model\n",
        "##### BaseLine의 사용한 KoGPT-2 사용"
      ]
    },
    {
      "cell_type": "code",
      "execution_count": 24,
      "metadata": {
        "id": "fJPXORCIlzDn",
        "colab": {
          "base_uri": "https://localhost:8080/",
          "height": 81,
          "referenced_widgets": [
            "0a3b2ae5121641caa50043d696c4def3",
            "e5180de6583943ada7d0126cdd68c57e",
            "1d2bf393e1fe46cfb9b76227636376e5",
            "52e4122ed9dc49deab7a978e71c6845d",
            "f5ca899d43e84544a22107b3a3ffeb7b",
            "b1d9b2cd876744db8f300d6dd14db190",
            "966745f37cab4f2387a1653da8d9f60a",
            "ac16cc2a9fbc417fa1e67a5e6f58569f",
            "ba2ebffb61e146578926ca3e396d7a9f",
            "850eb445feb84ce09d81bd2509a0219e",
            "e7f8ca7e409744d6a768a09719e4fddc",
            "d04326bee4124afea0efdffb0f9d01aa",
            "4c74e574f24d4e49a6ecccc16465afc4",
            "ddcea4b5085b42f5bedff1c64b5fb48a",
            "9d971f0566a74cb9ad31da384215fb2b",
            "b432e07d4d6346888696ca834ec3958d",
            "a30d50dfdd1a4a669ebb7883cf806bc5",
            "be4183898ac9405586dc4b3dae448087",
            "f8fa73cacdba404d9feb6289f287579e",
            "82640645a64e4355ba03599c63485e70",
            "6fc26f6ad5bf4c238ef67582b91413c2",
            "86a19b196130419bb22765d96a73639e"
          ]
        },
        "outputId": "56cf67d0-0ab3-4956-a8af-c50d954d8125"
      },
      "outputs": [
        {
          "output_type": "display_data",
          "data": {
            "text/plain": [
              "Downloading (…)lve/main/config.json:   0%|          | 0.00/1.00k [00:00<?, ?B/s]"
            ],
            "application/vnd.jupyter.widget-view+json": {
              "version_major": 2,
              "version_minor": 0,
              "model_id": "0a3b2ae5121641caa50043d696c4def3"
            }
          },
          "metadata": {}
        },
        {
          "output_type": "display_data",
          "data": {
            "text/plain": [
              "Downloading (…)/main/tokenizer.json:   0%|          | 0.00/2.83M [00:00<?, ?B/s]"
            ],
            "application/vnd.jupyter.widget-view+json": {
              "version_major": 2,
              "version_minor": 0,
              "model_id": "d04326bee4124afea0efdffb0f9d01aa"
            }
          },
          "metadata": {}
        }
      ],
      "source": [
        "tokenizer = AutoTokenizer.from_pretrained('skt/kogpt2-base-v2')"
      ]
    },
    {
      "cell_type": "markdown",
      "metadata": {
        "id": "VF5uK0xpbdUS"
      },
      "source": [
        "### GPT Classifier 모델 구현"
      ]
    },
    {
      "cell_type": "code",
      "execution_count": 25,
      "metadata": {
        "id": "0j_qLFEjl09H"
      },
      "outputs": [],
      "source": [
        "class GPTModel(nn.Module):\n",
        "  def __init__(self, num_classes=2):\n",
        "    # 부모 클래스인 nn.Module의 생성자를 호출하여 클래스를 초기화합니다.\n",
        "    super(GPTModel, self).__init__()\n",
        "    #클래스 내에서 사용할 클래스 수를 저장하는 인스턴스 변수를 생성하고 초기화합니다.\n",
        "    self.num_classes = num_classes\n",
        "    # 한국어 GPT-2 모델인 'skt/kogpt2-base-v2'를 불러와서 self.gpt 변수에 할당하고, 이 모델은 사전 훈련된 모델로, 텍스트 데이터를 이해하고 생성하는 데 사용됩니다.\n",
        "    self.gpt = AutoModel.from_pretrained('skt/kogpt2-base-v2')\n",
        "    #bias를 False로 설정하여 편향되지 않게 합니다.\n",
        "    self.fc = nn.Linear(768, num_classes, bias=False)\n",
        "\n",
        "  #모델의 순전파(forward) 메서드를 정의합니다.\n",
        "  def forward(self, input_ids, attention_mask, labels=None):\n",
        "    #사전 훈련된 GPT-2 모델(self.gpt)에 입력 데이터(input_ids와 attention_mask)를 전달하여 모델의 출력을 얻습니다.\n",
        "    output = self.gpt(input_ids=input_ids,\n",
        "                      attention_mask=attention_mask)\n",
        "    #모델의 출력을 선형 변환 레이어(self.fc)에 전달하여 최종 출력을 생성합니다.\n",
        "    output = self.fc(output[0])\n",
        "    # output에서 각 클래스에 해당하는 예측값을 추출합니다. 여기서 torch.arange(self.num_classes, device=device)를 사용하여 클래스 인덱스를 생성하고, -1을 사용하여 마지막 타임 스텝의 예측값을 선택합니다.\n",
        "    output = output[torch.arange(self.num_classes, device=device), -1]\n",
        "    return output"
      ]
    },
    {
      "cell_type": "code",
      "execution_count": 26,
      "metadata": {
        "id": "_yiFRk4zl2Kw",
        "colab": {
          "base_uri": "https://localhost:8080/",
          "height": 49,
          "referenced_widgets": [
            "16901022370f4ec697726c557fb07662",
            "6dd5e6ba418e459ba0ccccd1e7091763",
            "7fab9ffe9df44a76993b2ccd73bb7855",
            "e26bcc35a16545e28c729a5af0b51c7f",
            "4cf6ee234da749b99dc16fb9b877f8ac",
            "a4bc58fada834545b7fb1694170b8bd1",
            "3476a3cc872d4579b71fdc4d8a87051f",
            "7d397405ab4c4418b1eafebc47878f50",
            "f077c4d7fb134e899853dd5f307a5fda",
            "174d5db417b64e268386dcb01fd24c05",
            "5686e9c06ba44db99fa9bbb55dba10fe"
          ]
        },
        "outputId": "b80da4b7-362d-4730-f748-1778041901ff"
      },
      "outputs": [
        {
          "output_type": "display_data",
          "data": {
            "text/plain": [
              "Downloading pytorch_model.bin:   0%|          | 0.00/513M [00:00<?, ?B/s]"
            ],
            "application/vnd.jupyter.widget-view+json": {
              "version_major": 2,
              "version_minor": 0,
              "model_id": "16901022370f4ec697726c557fb07662"
            }
          },
          "metadata": {}
        }
      ],
      "source": [
        "model = GPTModel()\n",
        "model = model.to(device)"
      ]
    },
    {
      "cell_type": "markdown",
      "metadata": {
        "id": "blkg73_XbdUU"
      },
      "source": [
        "### Data Loader\n",
        "##### input_ids, attention_mask 생성"
      ]
    },
    {
      "cell_type": "code",
      "execution_count": 27,
      "metadata": {
        "id": "x6k1uDs1l3f3",
        "colab": {
          "base_uri": "https://localhost:8080/"
        },
        "outputId": "ce174d5c-2585-45bf-cad2-a20b99aefe32"
      },
      "outputs": [
        {
          "output_type": "stream",
          "name": "stderr",
          "text": [
            "100%|██████████| 100/100 [00:00<00:00, 7508.87it/s]\n"
          ]
        }
      ],
      "source": [
        "# 주어진 텍스트 데이터(reviews)를 토큰화하는 과정입니다. 각 텍스트(s)는 tokenizer.tokenize() 함수를 사용하여 토큰 리스트로 변환됩니다. tokenized_texts는 이러한 토큰 리스트들의 리스트가 됩니다.\n",
        "tokenized_texts = [tokenizer.tokenize(s) for s in reviews]\n",
        "\n",
        "#토큰화된 텍스트 중 가장 긴 시퀀스의 길이를 구합니다.\n",
        "MAX_LEN = max([len(x) for x in tokenized_texts])\n",
        "#토큰화된 텍스트를 모델이 이해할 수 있는 정수형 시퀀스로 변환합니다. 각 토큰은 tokenizer.convert_tokens_to_ids() 함수를 사용하여 정수로 변환됩니다. 결과는 정수 시퀀스의 리스트인 input_ids로 저장됩니다.\n",
        "input_ids = [tokenizer.convert_tokens_to_ids(x) for x in tokenized_texts]\n",
        "#input_ids 리스트의 시퀀스를 가장 긴 시퀀스의 길이(MAX_LEN)에 맞게 패딩하여 정수 텐서로 만듭니다. 'dtype'는 데이터 타입을 나타내며, 'truncating' 및 'padding'은 시퀀스를 잘라내거나 패딩할 때의 규칙을 정의합니다. 이러한 작업은 모델이 일정한 크기의 입력을 처리할 수 있도록 합니다.\n",
        "input_ids = pad_sequences(input_ids, maxlen=MAX_LEN, dtype='long', truncating='post', padding='post')\n",
        "\n",
        "attention_masks = []\n",
        "\n",
        "for seq in tqdm(input_ids):\n",
        "    #각 시퀀스의 어텐션 마스크를 생성합니다. 어텐션 마스크는 정수 시퀀스의 각 위치에서 0이 아닌 값에 대한 마스크를 생성합니다. 이로써 모델은 패딩된 부분을 무시하고 실제 토큰만 처리합니다.\n",
        "    seq_mask = [float(i>0) for i in seq]\n",
        "    attention_masks.append(seq_mask)\n",
        "\n",
        "train_inputs = torch.tensor(input_ids)\n",
        "train_labels = torch.tensor(labels)\n",
        "train_masks = torch.tensor(attention_masks)"
      ]
    },
    {
      "cell_type": "code",
      "execution_count": 28,
      "metadata": {
        "id": "K952EDkJl4q-"
      },
      "outputs": [],
      "source": [
        "#미니배치 크기는 한 번에 모델에 공급되는 데이터의 샘플 수입니다.\n",
        "BATCH_SIZE = 2\n",
        "\n",
        "train_data = TensorDataset(train_inputs, train_masks, train_labels)\n",
        "#무작위 샘플링을 사용하여 학습 데이터를 샘플링하는 데이터 샘플러를 생성합니다. 이것은 데이터를 무작위로 섞고 각 미니배치에 다양한 데이터가 포함되도록 합니다.\n",
        "train_sampler = RandomSampler(train_data)\n",
        "#PyTorch의 DataLoader를 사용하여 학습 데이터로더를 생성합니다. train_data는 학습 데이터셋, train_sampler는 데이터 샘플러, 그리고 batch_size는 미니배치 크기를 지정합니다. 이 데이터로더를 사용하면 학습 과정에서 미니배치 단위로 데이터를 모델에 공급할 수 있습니다.\n",
        "train_dataloader = DataLoader(train_data, sampler=train_sampler, batch_size=BATCH_SIZE)"
      ]
    },
    {
      "cell_type": "markdown",
      "metadata": {
        "id": "D3NXrk4DbdUV"
      },
      "source": [
        "### 학습 세팅"
      ]
    },
    {
      "cell_type": "code",
      "execution_count": 29,
      "metadata": {
        "id": "a1cdlcphl5Po",
        "colab": {
          "base_uri": "https://localhost:8080/"
        },
        "outputId": "ba4149bc-261f-477a-9643-c661ccebaa46"
      },
      "outputs": [
        {
          "output_type": "stream",
          "name": "stderr",
          "text": [
            "/usr/local/lib/python3.10/dist-packages/transformers/optimization.py:411: FutureWarning: This implementation of AdamW is deprecated and will be removed in a future version. Use the PyTorch implementation torch.optim.AdamW instead, or set `no_deprecation_warning=True` to disable this warning\n",
            "  warnings.warn(\n"
          ]
        }
      ],
      "source": [
        "optimizer = AdamW(model.parameters(), lr=2e-5, eps=1e-8)\n",
        "criterion = nn.CrossEntropyLoss()\n",
        "epochs = 8"
      ]
    },
    {
      "cell_type": "code",
      "execution_count": 30,
      "metadata": {
        "id": "QV4aGJ8yl6QP"
      },
      "outputs": [],
      "source": [
        "# Accuracy Metric\n",
        "def flat_accuracy(preds, labels):\n",
        "    #preds에서 각 예측 결과에서 가장 높은 확률을 가진 클래스의 인덱스를 추출합니다. np.argmax() 함수는 가장 큰 값의 인덱스를 반환하며, axis=1은 각 행(샘플)에서 최댓값을 찾음을 나타냅니다. 결과로 얻은 인덱스를 1차원 배열로 변환합니다.\n",
        "    pred_flat = np.argmax(preds, axis=1).flatten()\n",
        "    labels_flat = labels.flatten()\n",
        "    #pred_flat와 labels_flat을 비교하여 정확도를 계산합니다. pred_flat == labels_flat는 각 위치에서 예측값과 실제 레이블이 일치하는지를 나타내는 부울(Boolean) 배열을 생성하고, np.sum()을 사용하여 일치하는 개수를 계산합니다. 이를 전체 샘플 수로 나누어 정확도를 계산합니다.\n",
        "    return np.sum(pred_flat == labels_flat) / len(labels_flat)"
      ]
    },
    {
      "cell_type": "markdown",
      "metadata": {
        "id": "ZYNOlIlCbdUW"
      },
      "source": [
        "### 학습"
      ]
    },
    {
      "cell_type": "code",
      "execution_count": 31,
      "metadata": {
        "id": "7JpBswcml7O_",
        "scrolled": true,
        "colab": {
          "base_uri": "https://localhost:8080/"
        },
        "outputId": "7074e156-6828-4053-994f-5d4394fbed24"
      },
      "outputs": [
        {
          "output_type": "stream",
          "name": "stdout",
          "text": [
            "--------------------------------------------------------------------\n",
            "Epoch \"1\"\n",
            "Train Mode: "
          ]
        },
        {
          "output_type": "stream",
          "name": "stderr",
          "text": [
            "100%|██████████| 50/50 [03:39<00:00,  4.38s/it]\n"
          ]
        },
        {
          "output_type": "stream",
          "name": "stdout",
          "text": [
            " Average training loss: 1.40  Average training accuracy: 0.66\n",
            "--------------------------------------------------------------------\n",
            "Epoch \"2\"\n",
            "Train Mode: "
          ]
        },
        {
          "output_type": "stream",
          "name": "stderr",
          "text": [
            "100%|██████████| 50/50 [03:28<00:00,  4.17s/it]\n"
          ]
        },
        {
          "output_type": "stream",
          "name": "stdout",
          "text": [
            " Average training loss: 0.84  Average training accuracy: 0.80\n",
            "--------------------------------------------------------------------\n",
            "Epoch \"3\"\n",
            "Train Mode: "
          ]
        },
        {
          "output_type": "stream",
          "name": "stderr",
          "text": [
            "100%|██████████| 50/50 [03:34<00:00,  4.28s/it]\n"
          ]
        },
        {
          "output_type": "stream",
          "name": "stdout",
          "text": [
            " Average training loss: 0.74  Average training accuracy: 0.87\n",
            "--------------------------------------------------------------------\n",
            "Epoch \"4\"\n",
            "Train Mode: "
          ]
        },
        {
          "output_type": "stream",
          "name": "stderr",
          "text": [
            "100%|██████████| 50/50 [03:30<00:00,  4.21s/it]\n"
          ]
        },
        {
          "output_type": "stream",
          "name": "stdout",
          "text": [
            " Average training loss: 1.33  Average training accuracy: 0.76\n",
            "--------------------------------------------------------------------\n",
            "Epoch \"5\"\n",
            "Train Mode: "
          ]
        },
        {
          "output_type": "stream",
          "name": "stderr",
          "text": [
            "100%|██████████| 50/50 [03:28<00:00,  4.17s/it]\n"
          ]
        },
        {
          "output_type": "stream",
          "name": "stdout",
          "text": [
            " Average training loss: 0.54  Average training accuracy: 0.90\n",
            "--------------------------------------------------------------------\n",
            "Epoch \"6\"\n",
            "Train Mode: "
          ]
        },
        {
          "output_type": "stream",
          "name": "stderr",
          "text": [
            "100%|██████████| 50/50 [03:29<00:00,  4.19s/it]\n"
          ]
        },
        {
          "output_type": "stream",
          "name": "stdout",
          "text": [
            " Average training loss: 1.10  Average training accuracy: 0.88\n",
            "--------------------------------------------------------------------\n",
            "Epoch \"7\"\n",
            "Train Mode: "
          ]
        },
        {
          "output_type": "stream",
          "name": "stderr",
          "text": [
            "100%|██████████| 50/50 [03:30<00:00,  4.20s/it]\n"
          ]
        },
        {
          "output_type": "stream",
          "name": "stdout",
          "text": [
            " Average training loss: 0.26  Average training accuracy: 0.92\n",
            "--------------------------------------------------------------------\n",
            "Epoch \"8\"\n",
            "Train Mode: "
          ]
        },
        {
          "output_type": "stream",
          "name": "stderr",
          "text": [
            "100%|██████████| 50/50 [03:29<00:00,  4.20s/it]"
          ]
        },
        {
          "output_type": "stream",
          "name": "stdout",
          "text": [
            " Average training loss: 1.76  Average training accuracy: 0.85\n"
          ]
        },
        {
          "output_type": "stream",
          "name": "stderr",
          "text": [
            "\n"
          ]
        }
      ],
      "source": [
        "for epoch in range(epochs):\n",
        "    print('--------------------------------------------------------------------')\n",
        "    print(f'Epoch \"{epoch + 1}\"')\n",
        "\n",
        "    print('Train Mode:', end=\" \")\n",
        "    total_loss, train_accuracy = 0.0, 0.0\n",
        "    model.train()\n",
        "\n",
        "    # 훈련 데이터로더(train_dataloader)를 통해 미니배치(batch)를 반복합니다. 각 미니배치는 모델에 공급됩니다.\n",
        "    for batch in tqdm(train_dataloader):\n",
        "        #각 미니배치의 요소를 GPU(device)로 이동합니다. 이것은 모델을 가속화하기 위한 작업입니다.\n",
        "        batch = tuple(t.to(device) for t in batch)\n",
        "        #미니배치에서 입력 데이터, 어텐션 마스크, 및 레이블을 추출합니다.\n",
        "        b_input_ids, b_input_mask, b_labels = batch\n",
        "        #모델에 입력 데이터와 어텐션 마스크를 전달하여 모델의 출력(outputs)을 얻습니다.\n",
        "        outputs = model(input_ids=b_input_ids,\n",
        "                        attention_mask=b_input_mask)\n",
        "\n",
        "        #손실을 계산합니다. 이 코드에서는 크로스 엔트로피 손실을 사용합니다.\n",
        "        loss = criterion(outputs.view(-1, 2), b_labels)\n",
        "        #모델의 출력을 확률값으로 변환한 후 logits 변수에 저장합니다.\n",
        "        logits = outputs.view(-1, 2)\n",
        "        #현재 미니배치의 손실을 전체 손실에 누적합니다.\n",
        "        total_loss += loss.item()\n",
        "        #역전파를 수행하여 그래디언트를 계산합니다.\n",
        "        loss.backward()\n",
        "\n",
        "        #logits 값을 NumPy 배열로 변환하여 CPU로 이동합니다.\n",
        "        logits = logits.detach().cpu().numpy()\n",
        "        #레이블 데이터를 NumPy 배열로 변환하여 CPU로 이동합니다.\n",
        "        label_ids = b_labels.to('cpu').numpy()\n",
        "        #현재 미니배치에서 계산된 정확도를 전체 훈련 정확도에 누적합니다.\n",
        "        train_accuracy += flat_accuracy(logits, label_ids)\n",
        "\n",
        "        #그래디언트 폭발을 방지하기 위해 모델 파라미터의 그래디언트를 클리핑(clipping)합니다.\n",
        "        torch.nn.utils.clip_grad_norm_(model.parameters(), 1.0)\n",
        "        #옵티마이저를 사용하여 모델 파라미터를 업데이트합니다.\n",
        "        optimizer.step()\n",
        "\n",
        "    #모델의 그래디언트를 초기화합니다.\n",
        "    model.zero_grad()\n",
        "    #에포크 내에서의 평균 학습 손실을 계산합니다.\n",
        "    avg_train_loss = total_loss / len(train_dataloader)\n",
        "    #에포크 내에서의 평균 학습 정확도를 계산합니다.\n",
        "    avg_train_acc = train_accuracy / len(train_dataloader)\n",
        "    #위의 평균 훈련 손실과 정확도를 출력합니다.\n",
        "    print(\" Average training loss: {0:.2f}\".format(avg_train_loss), end=\" \")\n",
        "    print(\" Average training accuracy: {0:.2f}\".format(avg_train_acc))"
      ]
    },
    {
      "cell_type": "markdown",
      "metadata": {
        "id": "3APcfnvWbdUX"
      },
      "source": [
        "### 예측\n",
        "##### test 데이터도 train 데이터와 동일한 프로세스로 처리\n",
        "##### train 데이터와 달리 test 데이터는 4개의 문장 중 가장 인간이 작성했을 법한 문장을 예측하는 것이기 때문에 순서대로 배치\n",
        "##### 4개의 문장 중 가장 score가 높은 2개 선택"
      ]
    },
    {
      "cell_type": "code",
      "execution_count": 32,
      "metadata": {
        "id": "JLbJLUNOl-WI"
      },
      "outputs": [],
      "source": [
        "test_reviews = []\n",
        "\n",
        "for i in range(df_test.shape[0]):\n",
        "  cols = [1,2,3,4]\n",
        "  test_reviews.extend(df_test.iloc[i, cols])"
      ]
    },
    {
      "cell_type": "code",
      "execution_count": 33,
      "metadata": {
        "id": "cTfuqBcBmAKR"
      },
      "outputs": [],
      "source": [
        "#테스트 데이터(test_reviews)를 토큰화하는 과정입니다. 각 텍스트(s)는 tokenizer.tokenize() 함수를 사용하여 토큰 리스트로 변환됩니다. tokenized_texts는 이러한 토큰 리스트들의 리스트가 됩니다.\n",
        "tokenized_texts = [tokenizer.tokenize(s) for s in test_reviews]\n",
        "\n",
        "#토큰화된 텍스트를 모델이 이해할 수 있는 정수 시퀀스로 변환합니다. 각 토큰은 tokenizer.convert_tokens_to_ids() 함수를 사용하여 정수로 변환됩니다. 결과는 정수 시퀀스의 리스트인 input_ids로 저장됩니다.\n",
        "input_ids = [tokenizer.convert_tokens_to_ids(x) for x in tokenized_texts]\n",
        "#input_ids 리스트의 시퀀스를 가장 긴 시퀀스의 길이(MAX_LEN)에 맞게 패딩하여 정수 텐서로 만듭니다. 'dtype'는 데이터 타입을 나타내며, 'truncating' 및 'padding'은 시퀀스를 잘라내거나 패딩할 때의 규칙을 정의합니다. 이러한 작업은 모델이 일정한 크기의 입력을 처리할 수 있도록 합니다.\n",
        "input_ids = pad_sequences(input_ids, maxlen=MAX_LEN, dtype='long', truncating='post', padding='post')\n",
        "\n",
        "attention_masks = []\n",
        "\n",
        "for seq in input_ids:\n",
        "    #각 시퀀스의 어텐션 마스크를 생성합니다. 어텐션 마스크는 정수 시퀀스의 각 위치에서 0이 아닌 값에 대한 마스크를 생성합니다. 이로써 모델은 패딩된 부분을 무시하고 실제 토큰만 처리합니다.\n",
        "    seq_mask = [float(i>0) for i in seq]\n",
        "    attention_masks.append(seq_mask)\n",
        "\n",
        "test_inputs = torch.tensor(input_ids)\n",
        "test_masks = torch.tensor(attention_masks)\n",
        "\n",
        "test_data = TensorDataset(test_inputs, test_masks)\n",
        "test_sampler = SequentialSampler(test_data)\n",
        "test_dataloader = DataLoader(test_data, sampler=test_sampler, batch_size=BATCH_SIZE)"
      ]
    },
    {
      "cell_type": "markdown",
      "metadata": {
        "id": "deOlGnSsbdUZ"
      },
      "source": [
        "### 0과 1을 예측하는 것이기 아니기 때문에 확률 Score를 저장"
      ]
    },
    {
      "cell_type": "code",
      "execution_count": 34,
      "metadata": {
        "id": "h68yyAXgmAhX",
        "colab": {
          "base_uri": "https://localhost:8080/"
        },
        "outputId": "13bd6df3-6f10-4b8e-f627-655310706902"
      },
      "outputs": [
        {
          "output_type": "stream",
          "name": "stderr",
          "text": [
            "100%|██████████| 2200/2200 [42:23<00:00,  1.16s/it]\n"
          ]
        }
      ],
      "source": [
        "#모델을 평가(Evaluation) 모드로 설정합니다. 이 모드에서는 모델이 훈련 중에는 수행하지 않는 동작을 하게 됩니다.\n",
        "model.eval()\n",
        "\n",
        "preds = []\n",
        "\n",
        "for batch in tqdm(test_dataloader):\n",
        "  #각 미니배치의 요소를 GPU(device)로 이동합니다. 이것은 모델을 가속화하기 위한 작업입니다.\n",
        "  batch = tuple(t.to(device) for t in batch)\n",
        "  #미니배치에서 입력 데이터와 어텐션 마스크를 추출합니다.\n",
        "  b_input_ids, b_input_mask = batch\n",
        "  #모델에 입력 데이터와 어텐션 마스크를 전달하여 모델의 출력(outputs)을 얻습니다.\n",
        "  outputs = model(input_ids=b_input_ids,\n",
        "                  attention_mask=b_input_mask)\n",
        "\n",
        "  #모델의 출력을 확률값으로 변환한 후, logits 변수에 저장합니다. .view(-1, 2)는 출력을 2개의 클래스에 대한 확률 값으로 재구성합니다. 그런 다음 .detach()를 사용하여 그래디언트 연산을 비활성화하고, .cpu().numpy()를 사용하여 결과를 NumPy 배열로 변환합니다.\n",
        "  logits = outputs.view(-1, 2).detach().cpu().numpy()\n",
        "  preds.extend(logits)\n",
        "\n",
        "preds = np.array(preds)"
      ]
    },
    {
      "cell_type": "markdown",
      "metadata": {
        "id": "0yBNCWi3bdUZ"
      },
      "source": [
        "### 가장 높은 Score를 가진 2 문장 label 선택"
      ]
    },
    {
      "cell_type": "code",
      "execution_count": 35,
      "metadata": {
        "id": "j58op6hlmBtn"
      },
      "outputs": [],
      "source": [
        "pred_labels = []\n",
        "\n",
        "for i in range(0,preds.shape[0],4):\n",
        "  tmp = preds[i:i+4,1] # 4 문장씩 검사\n",
        "  label1 = np.argmax(tmp) # 가장 높은 score\n",
        "  tmp[label1] = -np.inf\n",
        "  label2 = np.argmax(tmp) # 두번째로 높은 score\n",
        "\n",
        "  label = str(label1 + 1) + str(label2 + 1)\n",
        "  pred_labels.append(label)"
      ]
    },
    {
      "cell_type": "markdown",
      "metadata": {
        "id": "mvqHdg9xbdUa"
      },
      "source": [
        "### 제출"
      ]
    },
    {
      "cell_type": "code",
      "execution_count": 36,
      "metadata": {
        "id": "Q5KprzyDmCw_",
        "colab": {
          "base_uri": "https://localhost:8080/",
          "height": 424
        },
        "outputId": "26a2aec2-4871-43ac-c5d2-3ab0a68b70e2"
      },
      "outputs": [
        {
          "output_type": "execute_result",
          "data": {
            "text/plain": [
              "             id label\n",
              "0     TEST_0000    34\n",
              "1     TEST_0001    12\n",
              "2     TEST_0002    24\n",
              "3     TEST_0003    23\n",
              "4     TEST_0004    32\n",
              "...         ...   ...\n",
              "1095  TEST_1095    24\n",
              "1096  TEST_1096    24\n",
              "1097  TEST_1097    41\n",
              "1098  TEST_1098    43\n",
              "1099  TEST_1099    42\n",
              "\n",
              "[1100 rows x 2 columns]"
            ],
            "text/html": [
              "\n",
              "  <div id=\"df-5573df03-fca7-4a19-85b7-22534aff3156\" class=\"colab-df-container\">\n",
              "    <div>\n",
              "<style scoped>\n",
              "    .dataframe tbody tr th:only-of-type {\n",
              "        vertical-align: middle;\n",
              "    }\n",
              "\n",
              "    .dataframe tbody tr th {\n",
              "        vertical-align: top;\n",
              "    }\n",
              "\n",
              "    .dataframe thead th {\n",
              "        text-align: right;\n",
              "    }\n",
              "</style>\n",
              "<table border=\"1\" class=\"dataframe\">\n",
              "  <thead>\n",
              "    <tr style=\"text-align: right;\">\n",
              "      <th></th>\n",
              "      <th>id</th>\n",
              "      <th>label</th>\n",
              "    </tr>\n",
              "  </thead>\n",
              "  <tbody>\n",
              "    <tr>\n",
              "      <th>0</th>\n",
              "      <td>TEST_0000</td>\n",
              "      <td>34</td>\n",
              "    </tr>\n",
              "    <tr>\n",
              "      <th>1</th>\n",
              "      <td>TEST_0001</td>\n",
              "      <td>12</td>\n",
              "    </tr>\n",
              "    <tr>\n",
              "      <th>2</th>\n",
              "      <td>TEST_0002</td>\n",
              "      <td>24</td>\n",
              "    </tr>\n",
              "    <tr>\n",
              "      <th>3</th>\n",
              "      <td>TEST_0003</td>\n",
              "      <td>23</td>\n",
              "    </tr>\n",
              "    <tr>\n",
              "      <th>4</th>\n",
              "      <td>TEST_0004</td>\n",
              "      <td>32</td>\n",
              "    </tr>\n",
              "    <tr>\n",
              "      <th>...</th>\n",
              "      <td>...</td>\n",
              "      <td>...</td>\n",
              "    </tr>\n",
              "    <tr>\n",
              "      <th>1095</th>\n",
              "      <td>TEST_1095</td>\n",
              "      <td>24</td>\n",
              "    </tr>\n",
              "    <tr>\n",
              "      <th>1096</th>\n",
              "      <td>TEST_1096</td>\n",
              "      <td>24</td>\n",
              "    </tr>\n",
              "    <tr>\n",
              "      <th>1097</th>\n",
              "      <td>TEST_1097</td>\n",
              "      <td>41</td>\n",
              "    </tr>\n",
              "    <tr>\n",
              "      <th>1098</th>\n",
              "      <td>TEST_1098</td>\n",
              "      <td>43</td>\n",
              "    </tr>\n",
              "    <tr>\n",
              "      <th>1099</th>\n",
              "      <td>TEST_1099</td>\n",
              "      <td>42</td>\n",
              "    </tr>\n",
              "  </tbody>\n",
              "</table>\n",
              "<p>1100 rows × 2 columns</p>\n",
              "</div>\n",
              "    <div class=\"colab-df-buttons\">\n",
              "\n",
              "  <div class=\"colab-df-container\">\n",
              "    <button class=\"colab-df-convert\" onclick=\"convertToInteractive('df-5573df03-fca7-4a19-85b7-22534aff3156')\"\n",
              "            title=\"Convert this dataframe to an interactive table.\"\n",
              "            style=\"display:none;\">\n",
              "\n",
              "  <svg xmlns=\"http://www.w3.org/2000/svg\" height=\"24px\" viewBox=\"0 -960 960 960\">\n",
              "    <path d=\"M120-120v-720h720v720H120Zm60-500h600v-160H180v160Zm220 220h160v-160H400v160Zm0 220h160v-160H400v160ZM180-400h160v-160H180v160Zm440 0h160v-160H620v160ZM180-180h160v-160H180v160Zm440 0h160v-160H620v160Z\"/>\n",
              "  </svg>\n",
              "    </button>\n",
              "\n",
              "  <style>\n",
              "    .colab-df-container {\n",
              "      display:flex;\n",
              "      gap: 12px;\n",
              "    }\n",
              "\n",
              "    .colab-df-convert {\n",
              "      background-color: #E8F0FE;\n",
              "      border: none;\n",
              "      border-radius: 50%;\n",
              "      cursor: pointer;\n",
              "      display: none;\n",
              "      fill: #1967D2;\n",
              "      height: 32px;\n",
              "      padding: 0 0 0 0;\n",
              "      width: 32px;\n",
              "    }\n",
              "\n",
              "    .colab-df-convert:hover {\n",
              "      background-color: #E2EBFA;\n",
              "      box-shadow: 0px 1px 2px rgba(60, 64, 67, 0.3), 0px 1px 3px 1px rgba(60, 64, 67, 0.15);\n",
              "      fill: #174EA6;\n",
              "    }\n",
              "\n",
              "    .colab-df-buttons div {\n",
              "      margin-bottom: 4px;\n",
              "    }\n",
              "\n",
              "    [theme=dark] .colab-df-convert {\n",
              "      background-color: #3B4455;\n",
              "      fill: #D2E3FC;\n",
              "    }\n",
              "\n",
              "    [theme=dark] .colab-df-convert:hover {\n",
              "      background-color: #434B5C;\n",
              "      box-shadow: 0px 1px 3px 1px rgba(0, 0, 0, 0.15);\n",
              "      filter: drop-shadow(0px 1px 2px rgba(0, 0, 0, 0.3));\n",
              "      fill: #FFFFFF;\n",
              "    }\n",
              "  </style>\n",
              "\n",
              "    <script>\n",
              "      const buttonEl =\n",
              "        document.querySelector('#df-5573df03-fca7-4a19-85b7-22534aff3156 button.colab-df-convert');\n",
              "      buttonEl.style.display =\n",
              "        google.colab.kernel.accessAllowed ? 'block' : 'none';\n",
              "\n",
              "      async function convertToInteractive(key) {\n",
              "        const element = document.querySelector('#df-5573df03-fca7-4a19-85b7-22534aff3156');\n",
              "        const dataTable =\n",
              "          await google.colab.kernel.invokeFunction('convertToInteractive',\n",
              "                                                    [key], {});\n",
              "        if (!dataTable) return;\n",
              "\n",
              "        const docLinkHtml = 'Like what you see? Visit the ' +\n",
              "          '<a target=\"_blank\" href=https://colab.research.google.com/notebooks/data_table.ipynb>data table notebook</a>'\n",
              "          + ' to learn more about interactive tables.';\n",
              "        element.innerHTML = '';\n",
              "        dataTable['output_type'] = 'display_data';\n",
              "        await google.colab.output.renderOutput(dataTable, element);\n",
              "        const docLink = document.createElement('div');\n",
              "        docLink.innerHTML = docLinkHtml;\n",
              "        element.appendChild(docLink);\n",
              "      }\n",
              "    </script>\n",
              "  </div>\n",
              "\n",
              "\n",
              "<div id=\"df-68978ded-b4cb-459a-a603-c197f78a83a7\">\n",
              "  <button class=\"colab-df-quickchart\" onclick=\"quickchart('df-68978ded-b4cb-459a-a603-c197f78a83a7')\"\n",
              "            title=\"Suggest charts.\"\n",
              "            style=\"display:none;\">\n",
              "\n",
              "<svg xmlns=\"http://www.w3.org/2000/svg\" height=\"24px\"viewBox=\"0 0 24 24\"\n",
              "     width=\"24px\">\n",
              "    <g>\n",
              "        <path d=\"M19 3H5c-1.1 0-2 .9-2 2v14c0 1.1.9 2 2 2h14c1.1 0 2-.9 2-2V5c0-1.1-.9-2-2-2zM9 17H7v-7h2v7zm4 0h-2V7h2v10zm4 0h-2v-4h2v4z\"/>\n",
              "    </g>\n",
              "</svg>\n",
              "  </button>\n",
              "\n",
              "<style>\n",
              "  .colab-df-quickchart {\n",
              "      --bg-color: #E8F0FE;\n",
              "      --fill-color: #1967D2;\n",
              "      --hover-bg-color: #E2EBFA;\n",
              "      --hover-fill-color: #174EA6;\n",
              "      --disabled-fill-color: #AAA;\n",
              "      --disabled-bg-color: #DDD;\n",
              "  }\n",
              "\n",
              "  [theme=dark] .colab-df-quickchart {\n",
              "      --bg-color: #3B4455;\n",
              "      --fill-color: #D2E3FC;\n",
              "      --hover-bg-color: #434B5C;\n",
              "      --hover-fill-color: #FFFFFF;\n",
              "      --disabled-bg-color: #3B4455;\n",
              "      --disabled-fill-color: #666;\n",
              "  }\n",
              "\n",
              "  .colab-df-quickchart {\n",
              "    background-color: var(--bg-color);\n",
              "    border: none;\n",
              "    border-radius: 50%;\n",
              "    cursor: pointer;\n",
              "    display: none;\n",
              "    fill: var(--fill-color);\n",
              "    height: 32px;\n",
              "    padding: 0;\n",
              "    width: 32px;\n",
              "  }\n",
              "\n",
              "  .colab-df-quickchart:hover {\n",
              "    background-color: var(--hover-bg-color);\n",
              "    box-shadow: 0 1px 2px rgba(60, 64, 67, 0.3), 0 1px 3px 1px rgba(60, 64, 67, 0.15);\n",
              "    fill: var(--button-hover-fill-color);\n",
              "  }\n",
              "\n",
              "  .colab-df-quickchart-complete:disabled,\n",
              "  .colab-df-quickchart-complete:disabled:hover {\n",
              "    background-color: var(--disabled-bg-color);\n",
              "    fill: var(--disabled-fill-color);\n",
              "    box-shadow: none;\n",
              "  }\n",
              "\n",
              "  .colab-df-spinner {\n",
              "    border: 2px solid var(--fill-color);\n",
              "    border-color: transparent;\n",
              "    border-bottom-color: var(--fill-color);\n",
              "    animation:\n",
              "      spin 1s steps(1) infinite;\n",
              "  }\n",
              "\n",
              "  @keyframes spin {\n",
              "    0% {\n",
              "      border-color: transparent;\n",
              "      border-bottom-color: var(--fill-color);\n",
              "      border-left-color: var(--fill-color);\n",
              "    }\n",
              "    20% {\n",
              "      border-color: transparent;\n",
              "      border-left-color: var(--fill-color);\n",
              "      border-top-color: var(--fill-color);\n",
              "    }\n",
              "    30% {\n",
              "      border-color: transparent;\n",
              "      border-left-color: var(--fill-color);\n",
              "      border-top-color: var(--fill-color);\n",
              "      border-right-color: var(--fill-color);\n",
              "    }\n",
              "    40% {\n",
              "      border-color: transparent;\n",
              "      border-right-color: var(--fill-color);\n",
              "      border-top-color: var(--fill-color);\n",
              "    }\n",
              "    60% {\n",
              "      border-color: transparent;\n",
              "      border-right-color: var(--fill-color);\n",
              "    }\n",
              "    80% {\n",
              "      border-color: transparent;\n",
              "      border-right-color: var(--fill-color);\n",
              "      border-bottom-color: var(--fill-color);\n",
              "    }\n",
              "    90% {\n",
              "      border-color: transparent;\n",
              "      border-bottom-color: var(--fill-color);\n",
              "    }\n",
              "  }\n",
              "</style>\n",
              "\n",
              "  <script>\n",
              "    async function quickchart(key) {\n",
              "      const quickchartButtonEl =\n",
              "        document.querySelector('#' + key + ' button');\n",
              "      quickchartButtonEl.disabled = true;  // To prevent multiple clicks.\n",
              "      quickchartButtonEl.classList.add('colab-df-spinner');\n",
              "      try {\n",
              "        const charts = await google.colab.kernel.invokeFunction(\n",
              "            'suggestCharts', [key], {});\n",
              "      } catch (error) {\n",
              "        console.error('Error during call to suggestCharts:', error);\n",
              "      }\n",
              "      quickchartButtonEl.classList.remove('colab-df-spinner');\n",
              "      quickchartButtonEl.classList.add('colab-df-quickchart-complete');\n",
              "    }\n",
              "    (() => {\n",
              "      let quickchartButtonEl =\n",
              "        document.querySelector('#df-68978ded-b4cb-459a-a603-c197f78a83a7 button');\n",
              "      quickchartButtonEl.style.display =\n",
              "        google.colab.kernel.accessAllowed ? 'block' : 'none';\n",
              "    })();\n",
              "  </script>\n",
              "</div>\n",
              "    </div>\n",
              "  </div>\n"
            ]
          },
          "metadata": {},
          "execution_count": 36
        }
      ],
      "source": [
        "submit = pd.read_csv('/content/drive/MyDrive/월간데이콘쇼츠/sample_submission.csv')\n",
        "submit['label'] = pred_labels\n",
        "submit"
      ]
    }
  ],
  "metadata": {
    "colab": {
      "provenance": []
    },
    "kernelspec": {
      "display_name": "Python 3 (ipykernel)",
      "language": "python",
      "name": "python3"
    },
    "language_info": {
      "codemirror_mode": {
        "name": "ipython",
        "version": 3
      },
      "file_extension": ".py",
      "mimetype": "text/x-python",
      "name": "python",
      "nbconvert_exporter": "python",
      "pygments_lexer": "ipython3",
      "version": "3.11.4"
    },
    "widgets": {
      "application/vnd.jupyter.widget-state+json": {
        "0a3b2ae5121641caa50043d696c4def3": {
          "model_module": "@jupyter-widgets/controls",
          "model_name": "HBoxModel",
          "model_module_version": "1.5.0",
          "state": {
            "_dom_classes": [],
            "_model_module": "@jupyter-widgets/controls",
            "_model_module_version": "1.5.0",
            "_model_name": "HBoxModel",
            "_view_count": null,
            "_view_module": "@jupyter-widgets/controls",
            "_view_module_version": "1.5.0",
            "_view_name": "HBoxView",
            "box_style": "",
            "children": [
              "IPY_MODEL_e5180de6583943ada7d0126cdd68c57e",
              "IPY_MODEL_1d2bf393e1fe46cfb9b76227636376e5",
              "IPY_MODEL_52e4122ed9dc49deab7a978e71c6845d"
            ],
            "layout": "IPY_MODEL_f5ca899d43e84544a22107b3a3ffeb7b"
          }
        },
        "e5180de6583943ada7d0126cdd68c57e": {
          "model_module": "@jupyter-widgets/controls",
          "model_name": "HTMLModel",
          "model_module_version": "1.5.0",
          "state": {
            "_dom_classes": [],
            "_model_module": "@jupyter-widgets/controls",
            "_model_module_version": "1.5.0",
            "_model_name": "HTMLModel",
            "_view_count": null,
            "_view_module": "@jupyter-widgets/controls",
            "_view_module_version": "1.5.0",
            "_view_name": "HTMLView",
            "description": "",
            "description_tooltip": null,
            "layout": "IPY_MODEL_b1d9b2cd876744db8f300d6dd14db190",
            "placeholder": "​",
            "style": "IPY_MODEL_966745f37cab4f2387a1653da8d9f60a",
            "value": "Downloading (…)lve/main/config.json: 100%"
          }
        },
        "1d2bf393e1fe46cfb9b76227636376e5": {
          "model_module": "@jupyter-widgets/controls",
          "model_name": "FloatProgressModel",
          "model_module_version": "1.5.0",
          "state": {
            "_dom_classes": [],
            "_model_module": "@jupyter-widgets/controls",
            "_model_module_version": "1.5.0",
            "_model_name": "FloatProgressModel",
            "_view_count": null,
            "_view_module": "@jupyter-widgets/controls",
            "_view_module_version": "1.5.0",
            "_view_name": "ProgressView",
            "bar_style": "success",
            "description": "",
            "description_tooltip": null,
            "layout": "IPY_MODEL_ac16cc2a9fbc417fa1e67a5e6f58569f",
            "max": 1000,
            "min": 0,
            "orientation": "horizontal",
            "style": "IPY_MODEL_ba2ebffb61e146578926ca3e396d7a9f",
            "value": 1000
          }
        },
        "52e4122ed9dc49deab7a978e71c6845d": {
          "model_module": "@jupyter-widgets/controls",
          "model_name": "HTMLModel",
          "model_module_version": "1.5.0",
          "state": {
            "_dom_classes": [],
            "_model_module": "@jupyter-widgets/controls",
            "_model_module_version": "1.5.0",
            "_model_name": "HTMLModel",
            "_view_count": null,
            "_view_module": "@jupyter-widgets/controls",
            "_view_module_version": "1.5.0",
            "_view_name": "HTMLView",
            "description": "",
            "description_tooltip": null,
            "layout": "IPY_MODEL_850eb445feb84ce09d81bd2509a0219e",
            "placeholder": "​",
            "style": "IPY_MODEL_e7f8ca7e409744d6a768a09719e4fddc",
            "value": " 1.00k/1.00k [00:00&lt;00:00, 28.8kB/s]"
          }
        },
        "f5ca899d43e84544a22107b3a3ffeb7b": {
          "model_module": "@jupyter-widgets/base",
          "model_name": "LayoutModel",
          "model_module_version": "1.2.0",
          "state": {
            "_model_module": "@jupyter-widgets/base",
            "_model_module_version": "1.2.0",
            "_model_name": "LayoutModel",
            "_view_count": null,
            "_view_module": "@jupyter-widgets/base",
            "_view_module_version": "1.2.0",
            "_view_name": "LayoutView",
            "align_content": null,
            "align_items": null,
            "align_self": null,
            "border": null,
            "bottom": null,
            "display": null,
            "flex": null,
            "flex_flow": null,
            "grid_area": null,
            "grid_auto_columns": null,
            "grid_auto_flow": null,
            "grid_auto_rows": null,
            "grid_column": null,
            "grid_gap": null,
            "grid_row": null,
            "grid_template_areas": null,
            "grid_template_columns": null,
            "grid_template_rows": null,
            "height": null,
            "justify_content": null,
            "justify_items": null,
            "left": null,
            "margin": null,
            "max_height": null,
            "max_width": null,
            "min_height": null,
            "min_width": null,
            "object_fit": null,
            "object_position": null,
            "order": null,
            "overflow": null,
            "overflow_x": null,
            "overflow_y": null,
            "padding": null,
            "right": null,
            "top": null,
            "visibility": null,
            "width": null
          }
        },
        "b1d9b2cd876744db8f300d6dd14db190": {
          "model_module": "@jupyter-widgets/base",
          "model_name": "LayoutModel",
          "model_module_version": "1.2.0",
          "state": {
            "_model_module": "@jupyter-widgets/base",
            "_model_module_version": "1.2.0",
            "_model_name": "LayoutModel",
            "_view_count": null,
            "_view_module": "@jupyter-widgets/base",
            "_view_module_version": "1.2.0",
            "_view_name": "LayoutView",
            "align_content": null,
            "align_items": null,
            "align_self": null,
            "border": null,
            "bottom": null,
            "display": null,
            "flex": null,
            "flex_flow": null,
            "grid_area": null,
            "grid_auto_columns": null,
            "grid_auto_flow": null,
            "grid_auto_rows": null,
            "grid_column": null,
            "grid_gap": null,
            "grid_row": null,
            "grid_template_areas": null,
            "grid_template_columns": null,
            "grid_template_rows": null,
            "height": null,
            "justify_content": null,
            "justify_items": null,
            "left": null,
            "margin": null,
            "max_height": null,
            "max_width": null,
            "min_height": null,
            "min_width": null,
            "object_fit": null,
            "object_position": null,
            "order": null,
            "overflow": null,
            "overflow_x": null,
            "overflow_y": null,
            "padding": null,
            "right": null,
            "top": null,
            "visibility": null,
            "width": null
          }
        },
        "966745f37cab4f2387a1653da8d9f60a": {
          "model_module": "@jupyter-widgets/controls",
          "model_name": "DescriptionStyleModel",
          "model_module_version": "1.5.0",
          "state": {
            "_model_module": "@jupyter-widgets/controls",
            "_model_module_version": "1.5.0",
            "_model_name": "DescriptionStyleModel",
            "_view_count": null,
            "_view_module": "@jupyter-widgets/base",
            "_view_module_version": "1.2.0",
            "_view_name": "StyleView",
            "description_width": ""
          }
        },
        "ac16cc2a9fbc417fa1e67a5e6f58569f": {
          "model_module": "@jupyter-widgets/base",
          "model_name": "LayoutModel",
          "model_module_version": "1.2.0",
          "state": {
            "_model_module": "@jupyter-widgets/base",
            "_model_module_version": "1.2.0",
            "_model_name": "LayoutModel",
            "_view_count": null,
            "_view_module": "@jupyter-widgets/base",
            "_view_module_version": "1.2.0",
            "_view_name": "LayoutView",
            "align_content": null,
            "align_items": null,
            "align_self": null,
            "border": null,
            "bottom": null,
            "display": null,
            "flex": null,
            "flex_flow": null,
            "grid_area": null,
            "grid_auto_columns": null,
            "grid_auto_flow": null,
            "grid_auto_rows": null,
            "grid_column": null,
            "grid_gap": null,
            "grid_row": null,
            "grid_template_areas": null,
            "grid_template_columns": null,
            "grid_template_rows": null,
            "height": null,
            "justify_content": null,
            "justify_items": null,
            "left": null,
            "margin": null,
            "max_height": null,
            "max_width": null,
            "min_height": null,
            "min_width": null,
            "object_fit": null,
            "object_position": null,
            "order": null,
            "overflow": null,
            "overflow_x": null,
            "overflow_y": null,
            "padding": null,
            "right": null,
            "top": null,
            "visibility": null,
            "width": null
          }
        },
        "ba2ebffb61e146578926ca3e396d7a9f": {
          "model_module": "@jupyter-widgets/controls",
          "model_name": "ProgressStyleModel",
          "model_module_version": "1.5.0",
          "state": {
            "_model_module": "@jupyter-widgets/controls",
            "_model_module_version": "1.5.0",
            "_model_name": "ProgressStyleModel",
            "_view_count": null,
            "_view_module": "@jupyter-widgets/base",
            "_view_module_version": "1.2.0",
            "_view_name": "StyleView",
            "bar_color": null,
            "description_width": ""
          }
        },
        "850eb445feb84ce09d81bd2509a0219e": {
          "model_module": "@jupyter-widgets/base",
          "model_name": "LayoutModel",
          "model_module_version": "1.2.0",
          "state": {
            "_model_module": "@jupyter-widgets/base",
            "_model_module_version": "1.2.0",
            "_model_name": "LayoutModel",
            "_view_count": null,
            "_view_module": "@jupyter-widgets/base",
            "_view_module_version": "1.2.0",
            "_view_name": "LayoutView",
            "align_content": null,
            "align_items": null,
            "align_self": null,
            "border": null,
            "bottom": null,
            "display": null,
            "flex": null,
            "flex_flow": null,
            "grid_area": null,
            "grid_auto_columns": null,
            "grid_auto_flow": null,
            "grid_auto_rows": null,
            "grid_column": null,
            "grid_gap": null,
            "grid_row": null,
            "grid_template_areas": null,
            "grid_template_columns": null,
            "grid_template_rows": null,
            "height": null,
            "justify_content": null,
            "justify_items": null,
            "left": null,
            "margin": null,
            "max_height": null,
            "max_width": null,
            "min_height": null,
            "min_width": null,
            "object_fit": null,
            "object_position": null,
            "order": null,
            "overflow": null,
            "overflow_x": null,
            "overflow_y": null,
            "padding": null,
            "right": null,
            "top": null,
            "visibility": null,
            "width": null
          }
        },
        "e7f8ca7e409744d6a768a09719e4fddc": {
          "model_module": "@jupyter-widgets/controls",
          "model_name": "DescriptionStyleModel",
          "model_module_version": "1.5.0",
          "state": {
            "_model_module": "@jupyter-widgets/controls",
            "_model_module_version": "1.5.0",
            "_model_name": "DescriptionStyleModel",
            "_view_count": null,
            "_view_module": "@jupyter-widgets/base",
            "_view_module_version": "1.2.0",
            "_view_name": "StyleView",
            "description_width": ""
          }
        },
        "d04326bee4124afea0efdffb0f9d01aa": {
          "model_module": "@jupyter-widgets/controls",
          "model_name": "HBoxModel",
          "model_module_version": "1.5.0",
          "state": {
            "_dom_classes": [],
            "_model_module": "@jupyter-widgets/controls",
            "_model_module_version": "1.5.0",
            "_model_name": "HBoxModel",
            "_view_count": null,
            "_view_module": "@jupyter-widgets/controls",
            "_view_module_version": "1.5.0",
            "_view_name": "HBoxView",
            "box_style": "",
            "children": [
              "IPY_MODEL_4c74e574f24d4e49a6ecccc16465afc4",
              "IPY_MODEL_ddcea4b5085b42f5bedff1c64b5fb48a",
              "IPY_MODEL_9d971f0566a74cb9ad31da384215fb2b"
            ],
            "layout": "IPY_MODEL_b432e07d4d6346888696ca834ec3958d"
          }
        },
        "4c74e574f24d4e49a6ecccc16465afc4": {
          "model_module": "@jupyter-widgets/controls",
          "model_name": "HTMLModel",
          "model_module_version": "1.5.0",
          "state": {
            "_dom_classes": [],
            "_model_module": "@jupyter-widgets/controls",
            "_model_module_version": "1.5.0",
            "_model_name": "HTMLModel",
            "_view_count": null,
            "_view_module": "@jupyter-widgets/controls",
            "_view_module_version": "1.5.0",
            "_view_name": "HTMLView",
            "description": "",
            "description_tooltip": null,
            "layout": "IPY_MODEL_a30d50dfdd1a4a669ebb7883cf806bc5",
            "placeholder": "​",
            "style": "IPY_MODEL_be4183898ac9405586dc4b3dae448087",
            "value": "Downloading (…)/main/tokenizer.json: 100%"
          }
        },
        "ddcea4b5085b42f5bedff1c64b5fb48a": {
          "model_module": "@jupyter-widgets/controls",
          "model_name": "FloatProgressModel",
          "model_module_version": "1.5.0",
          "state": {
            "_dom_classes": [],
            "_model_module": "@jupyter-widgets/controls",
            "_model_module_version": "1.5.0",
            "_model_name": "FloatProgressModel",
            "_view_count": null,
            "_view_module": "@jupyter-widgets/controls",
            "_view_module_version": "1.5.0",
            "_view_name": "ProgressView",
            "bar_style": "success",
            "description": "",
            "description_tooltip": null,
            "layout": "IPY_MODEL_f8fa73cacdba404d9feb6289f287579e",
            "max": 2825034,
            "min": 0,
            "orientation": "horizontal",
            "style": "IPY_MODEL_82640645a64e4355ba03599c63485e70",
            "value": 2825034
          }
        },
        "9d971f0566a74cb9ad31da384215fb2b": {
          "model_module": "@jupyter-widgets/controls",
          "model_name": "HTMLModel",
          "model_module_version": "1.5.0",
          "state": {
            "_dom_classes": [],
            "_model_module": "@jupyter-widgets/controls",
            "_model_module_version": "1.5.0",
            "_model_name": "HTMLModel",
            "_view_count": null,
            "_view_module": "@jupyter-widgets/controls",
            "_view_module_version": "1.5.0",
            "_view_name": "HTMLView",
            "description": "",
            "description_tooltip": null,
            "layout": "IPY_MODEL_6fc26f6ad5bf4c238ef67582b91413c2",
            "placeholder": "​",
            "style": "IPY_MODEL_86a19b196130419bb22765d96a73639e",
            "value": " 2.83M/2.83M [00:00&lt;00:00, 12.0MB/s]"
          }
        },
        "b432e07d4d6346888696ca834ec3958d": {
          "model_module": "@jupyter-widgets/base",
          "model_name": "LayoutModel",
          "model_module_version": "1.2.0",
          "state": {
            "_model_module": "@jupyter-widgets/base",
            "_model_module_version": "1.2.0",
            "_model_name": "LayoutModel",
            "_view_count": null,
            "_view_module": "@jupyter-widgets/base",
            "_view_module_version": "1.2.0",
            "_view_name": "LayoutView",
            "align_content": null,
            "align_items": null,
            "align_self": null,
            "border": null,
            "bottom": null,
            "display": null,
            "flex": null,
            "flex_flow": null,
            "grid_area": null,
            "grid_auto_columns": null,
            "grid_auto_flow": null,
            "grid_auto_rows": null,
            "grid_column": null,
            "grid_gap": null,
            "grid_row": null,
            "grid_template_areas": null,
            "grid_template_columns": null,
            "grid_template_rows": null,
            "height": null,
            "justify_content": null,
            "justify_items": null,
            "left": null,
            "margin": null,
            "max_height": null,
            "max_width": null,
            "min_height": null,
            "min_width": null,
            "object_fit": null,
            "object_position": null,
            "order": null,
            "overflow": null,
            "overflow_x": null,
            "overflow_y": null,
            "padding": null,
            "right": null,
            "top": null,
            "visibility": null,
            "width": null
          }
        },
        "a30d50dfdd1a4a669ebb7883cf806bc5": {
          "model_module": "@jupyter-widgets/base",
          "model_name": "LayoutModel",
          "model_module_version": "1.2.0",
          "state": {
            "_model_module": "@jupyter-widgets/base",
            "_model_module_version": "1.2.0",
            "_model_name": "LayoutModel",
            "_view_count": null,
            "_view_module": "@jupyter-widgets/base",
            "_view_module_version": "1.2.0",
            "_view_name": "LayoutView",
            "align_content": null,
            "align_items": null,
            "align_self": null,
            "border": null,
            "bottom": null,
            "display": null,
            "flex": null,
            "flex_flow": null,
            "grid_area": null,
            "grid_auto_columns": null,
            "grid_auto_flow": null,
            "grid_auto_rows": null,
            "grid_column": null,
            "grid_gap": null,
            "grid_row": null,
            "grid_template_areas": null,
            "grid_template_columns": null,
            "grid_template_rows": null,
            "height": null,
            "justify_content": null,
            "justify_items": null,
            "left": null,
            "margin": null,
            "max_height": null,
            "max_width": null,
            "min_height": null,
            "min_width": null,
            "object_fit": null,
            "object_position": null,
            "order": null,
            "overflow": null,
            "overflow_x": null,
            "overflow_y": null,
            "padding": null,
            "right": null,
            "top": null,
            "visibility": null,
            "width": null
          }
        },
        "be4183898ac9405586dc4b3dae448087": {
          "model_module": "@jupyter-widgets/controls",
          "model_name": "DescriptionStyleModel",
          "model_module_version": "1.5.0",
          "state": {
            "_model_module": "@jupyter-widgets/controls",
            "_model_module_version": "1.5.0",
            "_model_name": "DescriptionStyleModel",
            "_view_count": null,
            "_view_module": "@jupyter-widgets/base",
            "_view_module_version": "1.2.0",
            "_view_name": "StyleView",
            "description_width": ""
          }
        },
        "f8fa73cacdba404d9feb6289f287579e": {
          "model_module": "@jupyter-widgets/base",
          "model_name": "LayoutModel",
          "model_module_version": "1.2.0",
          "state": {
            "_model_module": "@jupyter-widgets/base",
            "_model_module_version": "1.2.0",
            "_model_name": "LayoutModel",
            "_view_count": null,
            "_view_module": "@jupyter-widgets/base",
            "_view_module_version": "1.2.0",
            "_view_name": "LayoutView",
            "align_content": null,
            "align_items": null,
            "align_self": null,
            "border": null,
            "bottom": null,
            "display": null,
            "flex": null,
            "flex_flow": null,
            "grid_area": null,
            "grid_auto_columns": null,
            "grid_auto_flow": null,
            "grid_auto_rows": null,
            "grid_column": null,
            "grid_gap": null,
            "grid_row": null,
            "grid_template_areas": null,
            "grid_template_columns": null,
            "grid_template_rows": null,
            "height": null,
            "justify_content": null,
            "justify_items": null,
            "left": null,
            "margin": null,
            "max_height": null,
            "max_width": null,
            "min_height": null,
            "min_width": null,
            "object_fit": null,
            "object_position": null,
            "order": null,
            "overflow": null,
            "overflow_x": null,
            "overflow_y": null,
            "padding": null,
            "right": null,
            "top": null,
            "visibility": null,
            "width": null
          }
        },
        "82640645a64e4355ba03599c63485e70": {
          "model_module": "@jupyter-widgets/controls",
          "model_name": "ProgressStyleModel",
          "model_module_version": "1.5.0",
          "state": {
            "_model_module": "@jupyter-widgets/controls",
            "_model_module_version": "1.5.0",
            "_model_name": "ProgressStyleModel",
            "_view_count": null,
            "_view_module": "@jupyter-widgets/base",
            "_view_module_version": "1.2.0",
            "_view_name": "StyleView",
            "bar_color": null,
            "description_width": ""
          }
        },
        "6fc26f6ad5bf4c238ef67582b91413c2": {
          "model_module": "@jupyter-widgets/base",
          "model_name": "LayoutModel",
          "model_module_version": "1.2.0",
          "state": {
            "_model_module": "@jupyter-widgets/base",
            "_model_module_version": "1.2.0",
            "_model_name": "LayoutModel",
            "_view_count": null,
            "_view_module": "@jupyter-widgets/base",
            "_view_module_version": "1.2.0",
            "_view_name": "LayoutView",
            "align_content": null,
            "align_items": null,
            "align_self": null,
            "border": null,
            "bottom": null,
            "display": null,
            "flex": null,
            "flex_flow": null,
            "grid_area": null,
            "grid_auto_columns": null,
            "grid_auto_flow": null,
            "grid_auto_rows": null,
            "grid_column": null,
            "grid_gap": null,
            "grid_row": null,
            "grid_template_areas": null,
            "grid_template_columns": null,
            "grid_template_rows": null,
            "height": null,
            "justify_content": null,
            "justify_items": null,
            "left": null,
            "margin": null,
            "max_height": null,
            "max_width": null,
            "min_height": null,
            "min_width": null,
            "object_fit": null,
            "object_position": null,
            "order": null,
            "overflow": null,
            "overflow_x": null,
            "overflow_y": null,
            "padding": null,
            "right": null,
            "top": null,
            "visibility": null,
            "width": null
          }
        },
        "86a19b196130419bb22765d96a73639e": {
          "model_module": "@jupyter-widgets/controls",
          "model_name": "DescriptionStyleModel",
          "model_module_version": "1.5.0",
          "state": {
            "_model_module": "@jupyter-widgets/controls",
            "_model_module_version": "1.5.0",
            "_model_name": "DescriptionStyleModel",
            "_view_count": null,
            "_view_module": "@jupyter-widgets/base",
            "_view_module_version": "1.2.0",
            "_view_name": "StyleView",
            "description_width": ""
          }
        },
        "16901022370f4ec697726c557fb07662": {
          "model_module": "@jupyter-widgets/controls",
          "model_name": "HBoxModel",
          "model_module_version": "1.5.0",
          "state": {
            "_dom_classes": [],
            "_model_module": "@jupyter-widgets/controls",
            "_model_module_version": "1.5.0",
            "_model_name": "HBoxModel",
            "_view_count": null,
            "_view_module": "@jupyter-widgets/controls",
            "_view_module_version": "1.5.0",
            "_view_name": "HBoxView",
            "box_style": "",
            "children": [
              "IPY_MODEL_6dd5e6ba418e459ba0ccccd1e7091763",
              "IPY_MODEL_7fab9ffe9df44a76993b2ccd73bb7855",
              "IPY_MODEL_e26bcc35a16545e28c729a5af0b51c7f"
            ],
            "layout": "IPY_MODEL_4cf6ee234da749b99dc16fb9b877f8ac"
          }
        },
        "6dd5e6ba418e459ba0ccccd1e7091763": {
          "model_module": "@jupyter-widgets/controls",
          "model_name": "HTMLModel",
          "model_module_version": "1.5.0",
          "state": {
            "_dom_classes": [],
            "_model_module": "@jupyter-widgets/controls",
            "_model_module_version": "1.5.0",
            "_model_name": "HTMLModel",
            "_view_count": null,
            "_view_module": "@jupyter-widgets/controls",
            "_view_module_version": "1.5.0",
            "_view_name": "HTMLView",
            "description": "",
            "description_tooltip": null,
            "layout": "IPY_MODEL_a4bc58fada834545b7fb1694170b8bd1",
            "placeholder": "​",
            "style": "IPY_MODEL_3476a3cc872d4579b71fdc4d8a87051f",
            "value": "Downloading pytorch_model.bin: 100%"
          }
        },
        "7fab9ffe9df44a76993b2ccd73bb7855": {
          "model_module": "@jupyter-widgets/controls",
          "model_name": "FloatProgressModel",
          "model_module_version": "1.5.0",
          "state": {
            "_dom_classes": [],
            "_model_module": "@jupyter-widgets/controls",
            "_model_module_version": "1.5.0",
            "_model_name": "FloatProgressModel",
            "_view_count": null,
            "_view_module": "@jupyter-widgets/controls",
            "_view_module_version": "1.5.0",
            "_view_name": "ProgressView",
            "bar_style": "success",
            "description": "",
            "description_tooltip": null,
            "layout": "IPY_MODEL_7d397405ab4c4418b1eafebc47878f50",
            "max": 513302779,
            "min": 0,
            "orientation": "horizontal",
            "style": "IPY_MODEL_f077c4d7fb134e899853dd5f307a5fda",
            "value": 513302779
          }
        },
        "e26bcc35a16545e28c729a5af0b51c7f": {
          "model_module": "@jupyter-widgets/controls",
          "model_name": "HTMLModel",
          "model_module_version": "1.5.0",
          "state": {
            "_dom_classes": [],
            "_model_module": "@jupyter-widgets/controls",
            "_model_module_version": "1.5.0",
            "_model_name": "HTMLModel",
            "_view_count": null,
            "_view_module": "@jupyter-widgets/controls",
            "_view_module_version": "1.5.0",
            "_view_name": "HTMLView",
            "description": "",
            "description_tooltip": null,
            "layout": "IPY_MODEL_174d5db417b64e268386dcb01fd24c05",
            "placeholder": "​",
            "style": "IPY_MODEL_5686e9c06ba44db99fa9bbb55dba10fe",
            "value": " 513M/513M [00:04&lt;00:00, 134MB/s]"
          }
        },
        "4cf6ee234da749b99dc16fb9b877f8ac": {
          "model_module": "@jupyter-widgets/base",
          "model_name": "LayoutModel",
          "model_module_version": "1.2.0",
          "state": {
            "_model_module": "@jupyter-widgets/base",
            "_model_module_version": "1.2.0",
            "_model_name": "LayoutModel",
            "_view_count": null,
            "_view_module": "@jupyter-widgets/base",
            "_view_module_version": "1.2.0",
            "_view_name": "LayoutView",
            "align_content": null,
            "align_items": null,
            "align_self": null,
            "border": null,
            "bottom": null,
            "display": null,
            "flex": null,
            "flex_flow": null,
            "grid_area": null,
            "grid_auto_columns": null,
            "grid_auto_flow": null,
            "grid_auto_rows": null,
            "grid_column": null,
            "grid_gap": null,
            "grid_row": null,
            "grid_template_areas": null,
            "grid_template_columns": null,
            "grid_template_rows": null,
            "height": null,
            "justify_content": null,
            "justify_items": null,
            "left": null,
            "margin": null,
            "max_height": null,
            "max_width": null,
            "min_height": null,
            "min_width": null,
            "object_fit": null,
            "object_position": null,
            "order": null,
            "overflow": null,
            "overflow_x": null,
            "overflow_y": null,
            "padding": null,
            "right": null,
            "top": null,
            "visibility": null,
            "width": null
          }
        },
        "a4bc58fada834545b7fb1694170b8bd1": {
          "model_module": "@jupyter-widgets/base",
          "model_name": "LayoutModel",
          "model_module_version": "1.2.0",
          "state": {
            "_model_module": "@jupyter-widgets/base",
            "_model_module_version": "1.2.0",
            "_model_name": "LayoutModel",
            "_view_count": null,
            "_view_module": "@jupyter-widgets/base",
            "_view_module_version": "1.2.0",
            "_view_name": "LayoutView",
            "align_content": null,
            "align_items": null,
            "align_self": null,
            "border": null,
            "bottom": null,
            "display": null,
            "flex": null,
            "flex_flow": null,
            "grid_area": null,
            "grid_auto_columns": null,
            "grid_auto_flow": null,
            "grid_auto_rows": null,
            "grid_column": null,
            "grid_gap": null,
            "grid_row": null,
            "grid_template_areas": null,
            "grid_template_columns": null,
            "grid_template_rows": null,
            "height": null,
            "justify_content": null,
            "justify_items": null,
            "left": null,
            "margin": null,
            "max_height": null,
            "max_width": null,
            "min_height": null,
            "min_width": null,
            "object_fit": null,
            "object_position": null,
            "order": null,
            "overflow": null,
            "overflow_x": null,
            "overflow_y": null,
            "padding": null,
            "right": null,
            "top": null,
            "visibility": null,
            "width": null
          }
        },
        "3476a3cc872d4579b71fdc4d8a87051f": {
          "model_module": "@jupyter-widgets/controls",
          "model_name": "DescriptionStyleModel",
          "model_module_version": "1.5.0",
          "state": {
            "_model_module": "@jupyter-widgets/controls",
            "_model_module_version": "1.5.0",
            "_model_name": "DescriptionStyleModel",
            "_view_count": null,
            "_view_module": "@jupyter-widgets/base",
            "_view_module_version": "1.2.0",
            "_view_name": "StyleView",
            "description_width": ""
          }
        },
        "7d397405ab4c4418b1eafebc47878f50": {
          "model_module": "@jupyter-widgets/base",
          "model_name": "LayoutModel",
          "model_module_version": "1.2.0",
          "state": {
            "_model_module": "@jupyter-widgets/base",
            "_model_module_version": "1.2.0",
            "_model_name": "LayoutModel",
            "_view_count": null,
            "_view_module": "@jupyter-widgets/base",
            "_view_module_version": "1.2.0",
            "_view_name": "LayoutView",
            "align_content": null,
            "align_items": null,
            "align_self": null,
            "border": null,
            "bottom": null,
            "display": null,
            "flex": null,
            "flex_flow": null,
            "grid_area": null,
            "grid_auto_columns": null,
            "grid_auto_flow": null,
            "grid_auto_rows": null,
            "grid_column": null,
            "grid_gap": null,
            "grid_row": null,
            "grid_template_areas": null,
            "grid_template_columns": null,
            "grid_template_rows": null,
            "height": null,
            "justify_content": null,
            "justify_items": null,
            "left": null,
            "margin": null,
            "max_height": null,
            "max_width": null,
            "min_height": null,
            "min_width": null,
            "object_fit": null,
            "object_position": null,
            "order": null,
            "overflow": null,
            "overflow_x": null,
            "overflow_y": null,
            "padding": null,
            "right": null,
            "top": null,
            "visibility": null,
            "width": null
          }
        },
        "f077c4d7fb134e899853dd5f307a5fda": {
          "model_module": "@jupyter-widgets/controls",
          "model_name": "ProgressStyleModel",
          "model_module_version": "1.5.0",
          "state": {
            "_model_module": "@jupyter-widgets/controls",
            "_model_module_version": "1.5.0",
            "_model_name": "ProgressStyleModel",
            "_view_count": null,
            "_view_module": "@jupyter-widgets/base",
            "_view_module_version": "1.2.0",
            "_view_name": "StyleView",
            "bar_color": null,
            "description_width": ""
          }
        },
        "174d5db417b64e268386dcb01fd24c05": {
          "model_module": "@jupyter-widgets/base",
          "model_name": "LayoutModel",
          "model_module_version": "1.2.0",
          "state": {
            "_model_module": "@jupyter-widgets/base",
            "_model_module_version": "1.2.0",
            "_model_name": "LayoutModel",
            "_view_count": null,
            "_view_module": "@jupyter-widgets/base",
            "_view_module_version": "1.2.0",
            "_view_name": "LayoutView",
            "align_content": null,
            "align_items": null,
            "align_self": null,
            "border": null,
            "bottom": null,
            "display": null,
            "flex": null,
            "flex_flow": null,
            "grid_area": null,
            "grid_auto_columns": null,
            "grid_auto_flow": null,
            "grid_auto_rows": null,
            "grid_column": null,
            "grid_gap": null,
            "grid_row": null,
            "grid_template_areas": null,
            "grid_template_columns": null,
            "grid_template_rows": null,
            "height": null,
            "justify_content": null,
            "justify_items": null,
            "left": null,
            "margin": null,
            "max_height": null,
            "max_width": null,
            "min_height": null,
            "min_width": null,
            "object_fit": null,
            "object_position": null,
            "order": null,
            "overflow": null,
            "overflow_x": null,
            "overflow_y": null,
            "padding": null,
            "right": null,
            "top": null,
            "visibility": null,
            "width": null
          }
        },
        "5686e9c06ba44db99fa9bbb55dba10fe": {
          "model_module": "@jupyter-widgets/controls",
          "model_name": "DescriptionStyleModel",
          "model_module_version": "1.5.0",
          "state": {
            "_model_module": "@jupyter-widgets/controls",
            "_model_module_version": "1.5.0",
            "_model_name": "DescriptionStyleModel",
            "_view_count": null,
            "_view_module": "@jupyter-widgets/base",
            "_view_module_version": "1.2.0",
            "_view_name": "StyleView",
            "description_width": ""
          }
        }
      }
    }
  },
  "nbformat": 4,
  "nbformat_minor": 0
}